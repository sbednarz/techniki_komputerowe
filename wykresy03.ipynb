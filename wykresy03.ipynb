{
 "cells": [
  {
   "cell_type": "markdown",
   "metadata": {},
   "source": [
    "### Zadanie 1\n",
    "\n",
    "Narysować na jednym rysunku wykres dwóch funkcji:\n",
    "\n",
    "1) f1(t) = at\n",
    "\n",
    "2) f2(t) = b - ct\n",
    "\n",
    "Dla t = 0-3600, a=2, b=6000, c=0.5"
   ]
  },
  {
   "cell_type": "code",
   "execution_count": null,
   "metadata": {
    "collapsed": false
   },
   "outputs": [],
   "source": [
    "\n"
   ]
  },
  {
   "cell_type": "markdown",
   "metadata": {},
   "source": [
    "## Macierze - powtórka + parę nowości"
   ]
  },
  {
   "cell_type": "code",
   "execution_count": 53,
   "metadata": {
    "collapsed": false
   },
   "outputs": [],
   "source": [
    "import numpy as np\n",
    "\n",
    "a = np.array([10,11,12,13,14])\n",
    "c = np.linspace(0,1,5)"
   ]
  },
  {
   "cell_type": "code",
   "execution_count": 57,
   "metadata": {
    "collapsed": false
   },
   "outputs": [
    {
     "name": "stdout",
     "output_type": "stream",
     "text": [
      "a = [10 11 12 13 14]\n",
      "c = [ 0.    0.25  0.5   0.75  1.  ]\n"
     ]
    }
   ],
   "source": [
    "# użycie macierzy (wektorów)\n",
    "\n",
    "#wyświetlenie zawartości:\n",
    "print \"a = {}\".format(a)\n",
    "print \"c = {}\".format(c)"
   ]
  },
  {
   "cell_type": "code",
   "execution_count": 32,
   "metadata": {
    "collapsed": false
   },
   "outputs": [
    {
     "name": "stdout",
     "output_type": "stream",
     "text": [
      "10\n",
      "14\n"
     ]
    }
   ],
   "source": [
    "#wyświetlenie elementów (indeksy):\n",
    "print a[0]\n",
    "print a[-1]\n"
   ]
  },
  {
   "cell_type": "code",
   "execution_count": 36,
   "metadata": {
    "collapsed": false
   },
   "outputs": [
    {
     "name": "stdout",
     "output_type": "stream",
     "text": [
      "[100 121 144 169 196]\n",
      "[11 12 13 14 15]\n",
      "[20 22 24 26 28]\n"
     ]
    }
   ],
   "source": [
    "\n",
    "#operacje matematyczne element-po-elemencie:\n",
    "print a**2\n",
    "print a+1\n",
    "print a+a"
   ]
  },
  {
   "cell_type": "code",
   "execution_count": 40,
   "metadata": {
    "collapsed": false
   },
   "outputs": [
    {
     "name": "stdout",
     "output_type": "stream",
     "text": [
      "[[10 20]\n",
      " [30 40]\n",
      " [50 60]\n",
      " [70 80]]\n"
     ]
    }
   ],
   "source": [
    "# prawdziwa macierz = wiersze i kolumny:\n",
    "\n",
    "b = np.array([[10,20],[30,40],[50,60],[70,80]])\n",
    "print b"
   ]
  },
  {
   "cell_type": "code",
   "execution_count": 43,
   "metadata": {
    "collapsed": false
   },
   "outputs": [
    {
     "name": "stdout",
     "output_type": "stream",
     "text": [
      "[10 20]\n"
     ]
    }
   ],
   "source": [
    "# pierwszy wiersz\n",
    "print b[0]"
   ]
  },
  {
   "cell_type": "code",
   "execution_count": 45,
   "metadata": {
    "collapsed": false
   },
   "outputs": [
    {
     "name": "stdout",
     "output_type": "stream",
     "text": [
      "[30 40]\n"
     ]
    }
   ],
   "source": [
    "print b[1]"
   ]
  },
  {
   "cell_type": "code",
   "execution_count": 49,
   "metadata": {
    "collapsed": false
   },
   "outputs": [
    {
     "name": "stdout",
     "output_type": "stream",
     "text": [
      "[10 30 50 70]\n",
      "[20 40 60 80]\n"
     ]
    }
   ],
   "source": [
    "#pierwsza kolumna:\n",
    "print b[:,0]\n",
    "#druga kolumna:\n",
    "print b[:,1]"
   ]
  },
  {
   "cell_type": "markdown",
   "metadata": {},
   "source": [
    "### Zadanie 2\n",
    "\n",
    "Wartości w pierwszej koolumnie macierzy b podnieść do potęgi 3, a wartości w pierwszej kolumnie podzielić przez 2."
   ]
  },
  {
   "cell_type": "markdown",
   "metadata": {},
   "source": [
    "## Ładowanie danych z plików (tekstowych)"
   ]
  },
  {
   "cell_type": "code",
   "execution_count": 80,
   "metadata": {
    "collapsed": false
   },
   "outputs": [],
   "source": [
    "import numpy as np\n",
    "\n",
    "# załadowanie danych do wykresu z pliku ir1.csv\n",
    "dane = np.genfromtxt('ctr2-1.txt')\n"
   ]
  },
  {
   "cell_type": "code",
   "execution_count": 81,
   "metadata": {
    "collapsed": false
   },
   "outputs": [
    {
     "name": "stdout",
     "output_type": "stream",
     "text": [
      "[[  3.00000000e-02   1.40000000e-05]\n",
      " [  1.10000000e-01   2.00000000e-06]\n",
      " [  1.90000000e-01   6.00000000e-06]\n",
      " ..., \n",
      " [  6.51590000e+02  -1.50000000e-05]\n",
      " [  6.51670000e+02  -1.90000000e-05]\n",
      " [  6.51750000e+02  -1.50000000e-05]]\n"
     ]
    }
   ],
   "source": [
    "print dane"
   ]
  },
  {
   "cell_type": "code",
   "execution_count": 82,
   "metadata": {
    "collapsed": false
   },
   "outputs": [
    {
     "name": "stdout",
     "output_type": "stream",
     "text": [
      "0.03\n",
      "1.4e-05\n"
     ]
    }
   ],
   "source": [
    "print dane[0][0]\n",
    "print dane[0][1]\n"
   ]
  },
  {
   "cell_type": "code",
   "execution_count": 83,
   "metadata": {
    "collapsed": false
   },
   "outputs": [
    {
     "name": "stdout",
     "output_type": "stream",
     "text": [
      "[  3.00000000e-02   1.10000000e-01   1.90000000e-01 ...,   6.51590000e+02\n",
      "   6.51670000e+02   6.51750000e+02]\n"
     ]
    }
   ],
   "source": [
    "# czas - kolumna 0:\n",
    "print dane[:,0]"
   ]
  },
  {
   "cell_type": "code",
   "execution_count": 84,
   "metadata": {
    "collapsed": false
   },
   "outputs": [
    {
     "name": "stdout",
     "output_type": "stream",
     "text": [
      "[  1.40000000e-05   2.00000000e-06   6.00000000e-06 ...,  -1.50000000e-05\n",
      "  -1.90000000e-05  -1.50000000e-05]\n"
     ]
    }
   ],
   "source": [
    "# sygnał (kolumna 1):\n",
    "print dane[:,1]"
   ]
  },
  {
   "cell_type": "code",
   "execution_count": 85,
   "metadata": {
    "collapsed": false
   },
   "outputs": [
    {
     "data": {
      "text/plain": [
       "[<matplotlib.lines.Line2D at 0x7f1820201290>]"
      ]
     },
     "execution_count": 85,
     "metadata": {},
     "output_type": "execute_result"
    },
    {
     "data": {
      "image/png": "[encoded data removed]",
      "text/plain": [
       "<matplotlib.figure.Figure at 0x7f1820263e10>"
      ]
     },
     "metadata": {},
     "output_type": "display_data"
    }
   ],
   "source": [
    "# wykres (chromatogram):\n",
    "\n",
    "plt.plot(dane[:,0], dane[:,1], 'b-')"
   ]
  },
  {
   "cell_type": "code",
   "execution_count": 87,
   "metadata": {
    "collapsed": false
   },
   "outputs": [
    {
     "data": {
      "text/plain": [
       "[<matplotlib.lines.Line2D at 0x7f182008a0d0>]"
      ]
     },
     "execution_count": 87,
     "metadata": {},
     "output_type": "execute_result"
    },
    {
     "data": {
      "image/png": "[encoded data removed]",
      "text/plain": [
       "<matplotlib.figure.Figure at 0x7f18203e8350>"
      ]
     },
     "metadata": {},
     "output_type": "display_data"
    }
   ],
   "source": [
    "# albo tak:\n",
    "\n",
    "x = dane[:,0]\n",
    "y = dane[:,1]\n",
    "plt.plot(x, y, 'b-')\n"
   ]
  },
  {
   "cell_type": "markdown",
   "metadata": {},
   "source": [
    "### Zadanie 3\n",
    "\n",
    "Dodać do wykresu dane z pliku: ctr2-2.txt.\n",
    "\n",
    "Jak zrobić efekt przesunięcia w pionie i poziomie?\n",
    "\n",
    "Jak powiększyć wykres do pewnego zakresu (na osi x i y)?\n",
    "\n"
   ]
  },
  {
   "cell_type": "code",
   "execution_count": null,
   "metadata": {
    "collapsed": true
   },
   "outputs": [],
   "source": []
  }
 ],
 "metadata": {
  "kernelspec": {
   "display_name": "Python 2",
   "language": "python",
   "name": "python2"
  },
  "language_info": {
   "codemirror_mode": {
    "name": "ipython",
    "version": 2
   },
   "file_extension": ".py",
   "mimetype": "text/x-python",
   "name": "python",
   "nbconvert_exporter": "python",
   "pygments_lexer": "ipython2",
   "version": "2.7.10"
  }
 },
 "nbformat": 4,
 "nbformat_minor": 0
}
