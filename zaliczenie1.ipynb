{
 "cells": [
  {
   "cell_type": "markdown",
   "metadata": {},
   "source": [
    "## Zadanie 1.\n",
    "\n",
    "Narysować wykres funkcji: $$ f(x) = \\frac{abx}{1+bx} $$ dla $a=1$, $b=0.2$. \n",
    "\n",
    "Dodatkowo nanieść na wykres dane w formie punktów:\n",
    "\n",
    "x:  1, 2, 5, 8, 38; \n",
    "\n",
    "y: 0.05, 0.2, 0.55, 0.7, 0.85.\n",
    "\n",
    "Wykres powinien wyglądać jak ten poniżej:\n",
    "<img src='img.png'>"
   ]
  },
  {
   "cell_type": "markdown",
   "metadata": {},
   "source": [
    "## Zadanie 2.\n",
    "\n",
    "Rozwiązać układ równań:\n",
    "\n",
    "$$ 3xy +y-z=1 $$\n",
    "$$ x+yx^2+z=2 $$\n",
    "$$ x-y-z=-3 $$\n",
    "\n",
    "wiedząc, że poszukiwane rozwiązanie do liczby dodatnie."
   ]
  }
 ],
 "metadata": {
  "kernelspec": {
   "display_name": "Python 3",
   "language": "python",
   "name": "python3"
  },
  "language_info": {
   "codemirror_mode": {
    "name": "ipython",
    "version": 3
   },
   "file_extension": ".py",
   "mimetype": "text/x-python",
   "name": "python",
   "nbconvert_exporter": "python",
   "pygments_lexer": "ipython3",
   "version": "3.5.1"
  }
 },
 "nbformat": 4,
 "nbformat_minor": 0
}
