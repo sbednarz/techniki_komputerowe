{
 "cells": [
  {
   "cell_type": "markdown",
   "metadata": {},
   "source": [
    "### Zadanie\n",
    "\n",
    "Sporządzić wykres zależności gęstości wody od temperatury - nanieść dane doświadczalne i \n",
    "wielomian opisujący tę zależność.\n",
    "\n",
    "** Dane **\n",
    "\n",
    "temperatura = np.array([22, 20, 15, 10, 4, 0])\n",
    "\n",
    "gestosc = np.array([997.7735, 998.2071, 999.1026, 999.7026, 999.972, 999.8395])\n",
    "\n",
    "Postać funkcji: $ax^2 + bx + c$\n",
    "\n",
    "Współczynniki: a = -6.62E-03, b = 5.05E-02, c = 9.999E2\n",
    "\n",
    "Dodać siatkę plt.grid(True)\n",
    "\n",
    "\n",
    "\n",
    "\n",
    "\n",
    "![title](wykres01.png)\n",
    "\n",
    "\n",
    "\n",
    "---> Rodzaje komórek w Jupyter ..."
   ]
  },
  {
   "cell_type": "code",
   "execution_count": 173,
   "metadata": {
    "collapsed": false
   },
   "outputs": [
    {
     "name": "stdout",
     "output_type": "stream",
     "text": [
      "x1 = 1.2345\n",
      "x1 = 1.2345, x2 = 10000000, x3 = 87654\n",
      "Zaokrąglenia i notacja naukowa:\n",
      "x1 = 1.23, x2 = 1.00e+07, x3 = 87654\n",
      "x1 = 1.23e+00\n"
     ]
    }
   ],
   "source": [
    "x1 = 1.2345\n",
    "x2 = 10000000\n",
    "x3 = 87654\n",
    "\n",
    "print \"x1 = {}\".format(x1)\n",
    "\n",
    "print \"x1 = {}, x2 = {}, x3 = {}\".format(x1, x2, x3)\n",
    "print \"Zaokrąglenia i notacja naukowa:\"\n",
    "print \"x1 = {:.2f}, x2 = {:.2e}, x3 = {:4.0f}\".format(x1, x2, x3)\n",
    "\n",
    "#print round(1153.456789, -2)\n",
    "\n",
    "napis = \"x1 = {:.2e}\".format(x1)\n",
    "\n",
    "print napis\n"
   ]
  },
  {
   "cell_type": "code",
   "execution_count": 174,
   "metadata": {
    "collapsed": false
   },
   "outputs": [],
   "source": [
    "%matplotlib inline\n",
    "import matplotlib.pyplot as plt\n",
    "import numpy as np\n",
    "\n",
    "a = -6.62E-03\n",
    "b = 5.05E-02\n",
    "c = 9.999E2\n",
    "\n",
    "# funkcja ax**2 + b*x + c\n",
    "\n",
    "temperatura = np.array([22, 20, 15, 10, 4, 0])\n",
    "gestosc = np.array([997.7735, 998.2071, 999.1026, 999.7026, 999.972, 999.8395])\n",
    "\n"
   ]
  },
  {
   "cell_type": "markdown",
   "metadata": {},
   "source": [
    "#### Polskie fonty + symbole+współrzędne"
   ]
  },
  {
   "cell_type": "code",
   "execution_count": 175,
   "metadata": {
    "collapsed": false
   },
   "outputs": [
    {
     "data": {
      "text/plain": [
       "[<matplotlib.lines.Line2D at 0x11ff9670>]"
      ]
     },
     "execution_count": 175,
     "metadata": {},
     "output_type": "execute_result"
    },
    {
     "data": {
      "image/png": "[encoded data removed]",
      "text/plain": [
       "<matplotlib.figure.Figure at 0x121fdbb0>"
      ]
     },
     "metadata": {},
     "output_type": "display_data"
    }
   ],
   "source": [
    "c0 = [0.1, 0.2, 0.5, 0.9]\n",
    "alfa = [0.1, 0.2, 0.5, 0.9]\n",
    "\n",
    "plt.text(0.3, 0.7, '$a^2$')\n",
    "plt.text(0.4, 0.7, '$a^2$', fontsize=18)\n",
    "plt.text(0.5, 0.7, '$\\mathregular{a^2}$', fontsize=18)\n",
    "\n",
    "plt.xlabel(r'$\\mathregular{c_0}$', fontsize=16)\n",
    "plt.ylabel(r'$\\mathregular{\\alpha}$', fontsize=16)\n",
    "plt.plot(c0, alfa,'ro')\n"
   ]
  },
  {
   "cell_type": "code",
   "execution_count": 176,
   "metadata": {
    "collapsed": false
   },
   "outputs": [
    {
     "data": {
      "text/plain": [
       "[<matplotlib.lines.Line2D at 0x12951130>]"
      ]
     },
     "execution_count": 176,
     "metadata": {},
     "output_type": "execute_result"
    },
    {
     "data": {
      "image/png": "[encoded data removed]",
      "text/plain": [
       "<matplotlib.figure.Figure at 0x120ebc70>"
      ]
     },
     "metadata": {},
     "output_type": "display_data"
    }
   ],
   "source": [
    "\n",
    "# 2 linijki: polskie fonty\n",
    "from matplotlib import rc\n",
    "matplotlib.rc('font', family='Arial')\n",
    "\n",
    "\n",
    "\n",
    "c0 = [0.1, 0.2, 0.5, 0.9]\n",
    "alfa2 = [0.1, 0.2, 0.5, 0.9]\n",
    "\n",
    "plt.text(0.3, 0.7, u'Żółw wydzielał wstrętną woń.', fontsize=18)\n",
    "plt.text(0.3, 0.9, r'$\\alpha \\beta \\delta \\Delta \\phi \\eta \\rho$', fontsize=18)\n",
    "plt.text(0.3, 0.3, r'$\\Delta G = \\Delta H - T\\Delta S$', fontsize=18)\n",
    "plt.text(0.3, 0.15, r'$\\mathregular{\\Delta G = \\Delta H - T\\Delta S}$', fontsize=18)\n",
    "\n",
    "\n",
    "\n",
    "# polskie fonty + indeks górny i dolny\n",
    "plt.ylabel(r'$\\mathregular{\\alpha^2}$', fontsize=16)\n",
    "plt.xlabel(u'Stężenie $\\mathregular{c_0}$', fontsize=16)\n",
    "plt.plot(c0, alfa,'ro')\n",
    "\n"
   ]
  },
  {
   "cell_type": "markdown",
   "metadata": {},
   "source": [
    "#### Osie logarytmiczne ..."
   ]
  },
  {
   "cell_type": "code",
   "execution_count": 177,
   "metadata": {
    "collapsed": false
   },
   "outputs": [
    {
     "data": {
      "image/png": "[encoded data removed]",
      "text/plain": [
       "<matplotlib.figure.Figure at 0x12668fb0>"
      ]
     },
     "metadata": {},
     "output_type": "display_data"
    },
    {
     "data": {
      "image/png": "[encoded data removed]",
      "text/plain": [
       "<matplotlib.figure.Figure at 0x12b09850>"
      ]
     },
     "metadata": {},
     "output_type": "display_data"
    },
    {
     "data": {
      "text/plain": [
       "[<matplotlib.lines.Line2D at 0x12af7d50>]"
      ]
     },
     "execution_count": 177,
     "metadata": {},
     "output_type": "execute_result"
    },
    {
     "data": {
      "image/png": "[encoded data removed]",
      "text/plain": [
       "<matplotlib.figure.Figure at 0x12b09ab0>"
      ]
     },
     "metadata": {},
     "output_type": "display_data"
    }
   ],
   "source": [
    "x = [0.1, 0.2, 0.5, 0.9]\n",
    "y = [0.1e1, 0.2e2, 0.5e3, 0.9e4]\n",
    "plt.plot(x,y,'go')\n",
    "plt.grid(True)\n",
    "plt.show()\n",
    "\n",
    "plt.semilogy(x,y, 'ro') #semilogx\n",
    "plt.grid(True)\n",
    "plt.show()\n",
    "\n",
    "plt.loglog(x,y,'bo')"
   ]
  },
  {
   "cell_type": "markdown",
   "metadata": {},
   "source": [
    "#### Zakresy na osiach, tics"
   ]
  },
  {
   "cell_type": "code",
   "execution_count": 178,
   "metadata": {
    "collapsed": false
   },
   "outputs": [
    {
     "data": {
      "text/plain": [
       "[<matplotlib.lines.Line2D at 0x12668f50>]"
      ]
     },
     "execution_count": 178,
     "metadata": {},
     "output_type": "execute_result"
    },
    {
     "data": {
      "image/png": "[encoded data removed]",
      "text/plain": [
       "<matplotlib.figure.Figure at 0x129e3b70>"
      ]
     },
     "metadata": {},
     "output_type": "display_data"
    }
   ],
   "source": [
    "c0 = [0.1, 0.2, 0.5, 0.9]\n",
    "alfa = [0.1, 0.2, 0.5, 0.9]\n",
    "\n",
    "plt.xlabel(r'$\\mathregular{c_0}$', fontsize=16)\n",
    "plt.ylabel(r'$\\mathregular{\\alpha}$', fontsize=16)\n",
    "plt.xlim(0,1) # !\n",
    "plt.ylim(0,1) # !\n",
    "plt.xticks\n",
    "plt.plot(c0, alfa,'ro')"
   ]
  },
  {
   "cell_type": "markdown",
   "metadata": {},
   "source": [
    "#### Dopasowanie liniowe / regresja liniowa / fiting / fitowanie / dodawanie lini trendu"
   ]
  },
  {
   "cell_type": "code",
   "execution_count": 179,
   "metadata": {
    "collapsed": false
   },
   "outputs": [
    {
     "data": {
      "text/plain": [
       "[<matplotlib.lines.Line2D at 0x13170df0>]"
      ]
     },
     "execution_count": 179,
     "metadata": {},
     "output_type": "execute_result"
    },
    {
     "data": {
      "image/png": "[encoded data removed]",
      "text/plain": [
       "<matplotlib.figure.Figure at 0x122ea650>"
      ]
     },
     "metadata": {},
     "output_type": "display_data"
    }
   ],
   "source": [
    "czas = np.array([60, 120, 360, 720, 1440]) # czas, min\n",
    "cA = np.array([0.1, 0.5, 0.95, 2.2, 3.8]) # mo/L\n",
    "plt.xlim(0,1600)\n",
    "plt.ylim(0,5)\n",
    "plt.plot(czas, cA, 'bo')"
   ]
  },
  {
   "cell_type": "code",
   "execution_count": 182,
   "metadata": {
    "collapsed": false
   },
   "outputs": [
    {
     "name": "stdout",
     "output_type": "stream",
     "text": [
      "0.00264279026217\n",
      "0.082893258427\n",
      "0.989950300595\n"
     ]
    },
    {
     "data": {
      "image/png": "[encoded data removed]",
      "text/plain": [
       "<matplotlib.figure.Figure at 0x1331d1f0>"
      ]
     },
     "metadata": {},
     "output_type": "display_data"
    }
   ],
   "source": [
    "from scipy import stats\n",
    "import numpy as np\n",
    "\n",
    "\n",
    "czas = np.array([60, 120, 360, 720, 1440])\n",
    "cA = np.array([0.1, 0.5, 0.95, 2.2, 3.8])\n",
    "plt.xlim(0,1600)\n",
    "plt.ylim(0,5)\n",
    "plt.plot(czas, cA, 'bo')\n",
    "\n",
    "# y = a*x + b\n",
    "a, b, r_value, p_value, std_err = stats.linregress(czas, cA)\n",
    "print slope\n",
    "print intercept\n",
    "print r_value**2"
   ]
  },
  {
   "cell_type": "code",
   "execution_count": 183,
   "metadata": {
    "collapsed": false
   },
   "outputs": [
    {
     "name": "stdout",
     "output_type": "stream",
     "text": [
      "0.00264279026217\n",
      "0.082893258427\n",
      "0.989950300595\n"
     ]
    },
    {
     "data": {
      "text/plain": [
       "[<matplotlib.lines.Line2D at 0x1351ac90>]"
      ]
     },
     "execution_count": 183,
     "metadata": {},
     "output_type": "execute_result"
    },
    {
     "data": {
      "image/png": "[encoded data removed]",
      "text/plain": [
       "<matplotlib.figure.Figure at 0x13292cd0>"
      ]
     },
     "metadata": {},
     "output_type": "display_data"
    }
   ],
   "source": [
    "from scipy import stats\n",
    "import numpy as np\n",
    "\n",
    "\n",
    "czas = np.array([60, 120, 360, 720, 1440])\n",
    "cA = np.array([0.1, 0.5, 0.95, 2.2, 3.8])\n",
    "plt.xlim(0,1600)\n",
    "plt.ylim(0,5)\n",
    "plt.plot(czas, cA, 'bo')\n",
    "\n",
    "# y = a*x + b\n",
    "a, b, r_value, p_value, std_err = stats.linregress(czas, cA)\n",
    "print slope\n",
    "print intercept\n",
    "print r_value**2\n",
    "\n",
    "t = np.linspace(0,1600)\n",
    "plt.plot(t, a*t + b, ':')\n",
    "plt.plot(czas, cA, 'bo')\n"
   ]
  },
  {
   "cell_type": "code",
   "execution_count": 204,
   "metadata": {
    "collapsed": false
   },
   "outputs": [
    {
     "data": {
      "image/png": "[encoded data removed]",
      "text/plain": [
       "<matplotlib.figure.Figure at 0x14632e30>"
      ]
     },
     "metadata": {},
     "output_type": "display_data"
    }
   ],
   "source": [
    "from scipy import stats\n",
    "import numpy as np\n",
    "\n",
    "\n",
    "czas = np.array([60, 120, 360, 720, 1440])\n",
    "cA = np.array([0.1, 0.5, 0.95, 2.2, 3.8])\n",
    "plt.xlim(0,1600)\n",
    "plt.ylim(0,5)\n",
    "plt.plot(czas, cA, 'bo')\n",
    "\n",
    "# y = a*x + b\n",
    "a, b, r_value, p_value, std_err = stats.linregress(czas, cA)\n",
    "r2 = r_value**2\n",
    "\n",
    "info = 'y = {:.2e}x + {:.2e}, $R^2$={:.3f}'.format(a, b, r2)\n",
    "\n",
    "t = np.linspace(0,1600)\n",
    "plt.plot(t, a*t + b, ':')\n",
    "plt.plot(czas, cA, 'bo')\n",
    "plt.text(200,4,info)\n",
    "plt.show()"
   ]
  },
  {
   "cell_type": "code",
   "execution_count": 203,
   "metadata": {
    "collapsed": false
   },
   "outputs": [
    {
     "data": {
      "image/png": "[encoded data removed]",
      "text/plain": [
       "<matplotlib.figure.Figure at 0x144f97f0>"
      ]
     },
     "metadata": {},
     "output_type": "display_data"
    }
   ],
   "source": [
    "from scipy import stats\n",
    "import numpy as np\n",
    "\n",
    "\n",
    "czas = np.array([60, 120, 360, 720, 1440])\n",
    "cA = np.array([0.1, 0.5, 0.95, 2.2, 3.8])\n",
    "plt.xlim(0,1600)\n",
    "plt.ylim(0,5)\n",
    "plt.plot(czas, cA, 'bo')\n",
    "\n",
    "# y = a*x + b\n",
    "a, b, r_value, p_value, std_err = stats.linregress(czas, cA)\n",
    "r2 = r_value**2\n",
    "\n",
    "info = 'y = {:.2e}x + {:.2e}, $\\\\mathregular{{R^2={:.3f}}}$'.format(a, b, r2)\n",
    "\n",
    "t = np.linspace(0,1600)\n",
    "plt.plot(t, a*t + b, ':')\n",
    "plt.plot(czas, cA, 'bo')\n",
    "plt.text(200,4,info)\n",
    "plt.show()"
   ]
  },
  {
   "cell_type": "code",
   "execution_count": null,
   "metadata": {
    "collapsed": true
   },
   "outputs": [],
   "source": []
  }
 ],
 "metadata": {
  "kernelspec": {
   "display_name": "Python 2",
   "language": "python",
   "name": "python2"
  },
  "language_info": {
   "codemirror_mode": {
    "name": "ipython",
    "version": 2
   },
   "file_extension": ".py",
   "mimetype": "text/x-python",
   "name": "python",
   "nbconvert_exporter": "python",
   "pygments_lexer": "ipython2",
   "version": "2.7.11"
  }
 },
 "nbformat": 4,
 "nbformat_minor": 0
}
