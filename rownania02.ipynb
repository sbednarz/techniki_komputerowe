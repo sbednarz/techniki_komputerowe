{
 "cells": [
  {
   "cell_type": "markdown",
   "metadata": {},
   "source": [
    "# Równania i układy równań c.d.\n",
    "\n",
    "\n",
    "### Przykład 1.\n",
    "\n",
    "Obliczyć pH kwasu octowego (Ka=1.86e-5) o stężeniu 0.1 mol/L."
   ]
  },
  {
   "cell_type": "code",
   "execution_count": 56,
   "metadata": {
    "collapsed": false
   },
   "outputs": [
    {
     "name": "stdout",
     "output_type": "stream",
     "text": [
      "pH:\n",
      "2.86820499728\n",
      "Sprawdzenie:\n",
      "0.00135454987455\n",
      "9.83217026803e-15\n",
      "0.1\n"
     ]
    }
   ],
   "source": [
    "# rodzaje indywiduów w układzie\n",
    "# h oh ch3coo ch3cooh\n",
    "# układ równań\n",
    "# rozwiązanie\n",
    "\n",
    "import numpy as np\n",
    "from scipy.optimize import fsolve\n",
    "\n",
    "def model(X):\n",
    "    \n",
    "    Ka = 1.86e-5\n",
    "    Kw = 1e-14\n",
    "    c_ch3cooh = 0.1\n",
    "    \n",
    "    \n",
    "    h, oh, ch3coo, ch3cooh = X\n",
    "    eq1 = h*oh-Kw\n",
    "    eq2 = (h*ch3coo)/ch3cooh - Ka\n",
    "    eq3 = h - oh - ch3coo\n",
    "    eq4 = ch3coo + ch3cooh - c_ch3cooh\n",
    "    return [eq1, eq2, eq3, eq4]\n",
    "\n",
    "#h, oh, ch3coo, ch3cooh\n",
    "guess = [1e-5, 1e-5, 1e-5, 1e-5]\n",
    "\n",
    "h, oh, ch3coo, ch3cooh = fsolve(model, guess)\n",
    "print \"pH:\"\n",
    "print -np.log10(h)\n",
    "\n",
    "print \"Sprawdzenie:\"\n",
    "print h - oh\n",
    "print h*oh\n",
    "print ch3coo + ch3cooh"
   ]
  },
  {
   "cell_type": "markdown",
   "metadata": {},
   "source": [
    "### Przykład 2.\n",
    "\n",
    "Obliczyć pH wodnego roztworu amoniaku (Kb=1.75e-5) o stężeniu 0.1 mol/L."
   ]
  },
  {
   "cell_type": "code",
   "execution_count": 57,
   "metadata": {
    "collapsed": false
   },
   "outputs": [
    {
     "name": "stdout",
     "output_type": "stream",
     "text": [
      "pH:\n",
      "11.1391497876\n"
     ]
    }
   ],
   "source": [
    "import numpy as np\n",
    "from scipy.optimize import fsolve\n",
    "\n",
    "def model(X):\n",
    "    \n",
    "    Kb = 1.86e-5\n",
    "    Kw = 1e-14\n",
    "    c_nh3 = 0.1\n",
    "    \n",
    "    \n",
    "    h, oh, nh4, nh3 = X\n",
    "    eq1 = h*oh-Kw\n",
    "    eq2 = (nh4*oh)/nh3 - Kb\n",
    "    eq3 = h + nh4 - oh\n",
    "    eq4 = nh4 + nh3 - c_nh3\n",
    "    return [eq1, eq2, eq3, eq4]\n",
    "\n",
    "# h, oh, nh3, nh4\n",
    "guess = [1e-5, 1e-5, 1e-5, 1e-5]\n",
    "\n",
    "h, oh, nh3, nh4 = fsolve(model, guess)\n",
    "print \"pH:\"\n",
    "print -np.log10(h)\n"
   ]
  },
  {
   "cell_type": "markdown",
   "metadata": {},
   "source": [
    "### Przykład 3.\n",
    "\n",
    "Obliczyć pH wodnego roztworu octanu sodu o stężeniu 0.1 mol/L. Dla kwasu octowego Ka = 1.86e-5."
   ]
  },
  {
   "cell_type": "code",
   "execution_count": 64,
   "metadata": {
    "collapsed": false
   },
   "outputs": [
    {
     "name": "stdout",
     "output_type": "stream",
     "text": [
      "pH:\n",
      "8.86526790486\n",
      "0.1\n",
      "0.1\n",
      "1.00000041952e-14\n"
     ]
    }
   ],
   "source": [
    "import numpy as np\n",
    "from scipy.optimize import fsolve\n",
    "\n",
    "\n",
    "def model(X):\n",
    "    \n",
    "    Ka = 1.86e-5\n",
    "    Kw = 1e-14\n",
    "    c_ch3coona = 0.1\n",
    "    \n",
    "    \n",
    "    h, oh, ch3coo, ch3cooh, na = X\n",
    "    eq1 = h*oh-Kw\n",
    "    #eq2 = (ch3coo*h)/ch3cooh - Ka # !\n",
    "    eq2 = ch3coo*h - ch3cooh*Ka # inna forma równania na dysocjację (bez dzielenia)\n",
    "    eq3 = h + na - oh - ch3coo\n",
    "    eq4 = na - c_ch3coona\n",
    "    eq5 = ch3coo + ch3cooh - c_ch3coona\n",
    "    return [eq1, eq2, eq3, eq4, eq5]\n",
    "\n",
    "# h, oh, ch3coo, ch3cooh, na\n",
    "guess = [1e-6, 1e-5, 1e-5, 1e-5, 1e-1]\n",
    "\n",
    "h, oh, ch3coo, ch3cooh, na = fsolve(model, guess)\n",
    "print \"pH:\"\n",
    "print -np.log10(h)\n",
    "\n",
    "print na\n",
    "print ch3coo + ch3cooh\n",
    "print h*oh"
   ]
  },
  {
   "cell_type": "markdown",
   "metadata": {},
   "source": [
    "### Zadanie 1.\n",
    "\n",
    "Obliczyć pH 0.1 M kwasu szczawiowego (H2C2O4). Jakie będzie stężenie jonów\n",
    "szczawianowych w tym roztworze. (Ka1 = 5.6e-2 , Ka2 = 5.3e-5). \n",
    "\n",
    "(Odp. pH = 1.28; [szczawiany] = 5.3e-5 mol/L)"
   ]
  },
  {
   "cell_type": "markdown",
   "metadata": {},
   "source": [
    "### Zadanie 2.\n",
    "\n",
    "W układzie zachodzą reakcje:\n",
    "\n",
    "A + B <=> C, K1\n",
    "\n",
    "A + B <=> D, K2\n",
    "\n",
    "Obliczyć skład równowagowy wiedząc, że:\n",
    "K1 = 10, K2 = 40, a początkowe stężenia wynosiły:\n",
    "\n",
    "A0 = 1 mol/L\n",
    "\n",
    "B0 = 2 mol/L\n",
    "\n",
    "C0 = D0 = 0\n"
   ]
  },
  {
   "cell_type": "code",
   "execution_count": null,
   "metadata": {
    "collapsed": true
   },
   "outputs": [],
   "source": []
  }
 ],
 "metadata": {
  "kernelspec": {
   "display_name": "Python 2",
   "language": "python",
   "name": "python2"
  },
  "language_info": {
   "codemirror_mode": {
    "name": "ipython",
    "version": 2
   },
   "file_extension": ".py",
   "mimetype": "text/x-python",
   "name": "python",
   "nbconvert_exporter": "python",
   "pygments_lexer": "ipython2",
   "version": "2.7.11"
  }
 },
 "nbformat": 4,
 "nbformat_minor": 0
}
