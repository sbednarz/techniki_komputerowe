{
 "cells": [
  {
   "cell_type": "markdown",
   "metadata": {},
   "source": [
    "### Zadanie 1. \n",
    "\n",
    "Zmierzono stężenie (c) pewnego substratu po czasie reakcji:\n",
    "\n",
    "czas (s): 0, 500, 1500, 2500, 3600\n",
    "\n",
    "stężenie (mol/L): 0.24, 0.14, 0.06, 0.02, 0.01\n",
    "\n",
    "Narysować wykres przedstawiający wyniki pomiarów oraz funkcję: $c = 0.25exp(-10^{-3}t)$,\n",
    "wg przykładu poniżej:"
   ]
  },
  {
   "cell_type": "markdown",
   "metadata": {},
   "source": [
    "<img src=\"zadanie1.png\">"
   ]
  },
  {
   "cell_type": "markdown",
   "metadata": {},
   "source": [
    "### Zadanie 2.\n",
    "\n",
    "Dla stężeń wzorca 0, 1, 2, 4, 8 mg/L, zmierzono absorbancję (A) roztworów przy 608 nm:\n",
    "0, 1750, 2900, 7800, 13000. Narysować krzywą kalibracji (wzorcową), znaleść równanie regresji.\n",
    "Sporządzić wykres wg przykładu:\n",
    "\n"
   ]
  },
  {
   "cell_type": "markdown",
   "metadata": {},
   "source": [
    "<img src=\"zadanie2.png\">"
   ]
  },
  {
   "cell_type": "markdown",
   "metadata": {},
   "source": [
    "### Zadanie 3.\n",
    "\n",
    "Do raportu z analiz chromatograficzny potrzebne jest porównanie wyników analiz dla próbek: ctr2-1, ctr2-2 i ctr2-3.\n",
    "Korzystając z danych w plikach, sporządzić wykres wg poniższego wzoru:\n",
    "\n",
    "\n"
   ]
  },
  {
   "cell_type": "markdown",
   "metadata": {},
   "source": [
    "<img src=\"zadanie3.png\">"
   ]
  }
 ],
 "metadata": {
  "kernelspec": {
   "display_name": "Python 2",
   "language": "python",
   "name": "python2"
  },
  "language_info": {
   "codemirror_mode": {
    "name": "ipython",
    "version": 2
   },
   "file_extension": ".py",
   "mimetype": "text/x-python",
   "name": "python",
   "nbconvert_exporter": "python",
   "pygments_lexer": "ipython2",
   "version": "2.7.11"
  }
 },
 "nbformat": 4,
 "nbformat_minor": 0
}
